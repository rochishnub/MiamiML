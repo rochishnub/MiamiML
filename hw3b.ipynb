{
 "cells": [
  {
   "cell_type": "code",
   "execution_count": 66,
   "metadata": {},
   "outputs": [],
   "source": [
    "import torch\n",
    "import numpy as np"
   ]
  },
  {
   "cell_type": "code",
   "execution_count": 67,
   "metadata": {},
   "outputs": [
    {
     "name": "stdout",
     "output_type": "stream",
     "text": [
      "W:\n",
      " [[2. 1. 2.]\n",
      " [1. 3. 1.]\n",
      " [7. 4. 7.]]\n",
      "x:\n",
      " [[ 1.]\n",
      " [ 0.]\n",
      " [-1.]]\n"
     ]
    }
   ],
   "source": [
    "W = np.array([[2,1,2], [1,3,1], [7,4,7]], dtype=np.float32)\n",
    "x = np.array([[1], [0], [-1]], dtype=np.float32)\n",
    "\n",
    "print(f\"W:\\n {W}\")\n",
    "print(f\"x:\\n {x}\")"
   ]
  },
  {
   "cell_type": "code",
   "execution_count": 68,
   "metadata": {},
   "outputs": [],
   "source": [
    "# Defining sigmoid and L2 norm functions\n",
    "def sigmoid(X):\n",
    "    return 1 / (1 + np.exp(X))\n",
    "\n",
    "def l2_norm(Y):\n",
    "    return np.linalg.norm(Y) ** 2"
   ]
  },
  {
   "cell_type": "markdown",
   "metadata": {},
   "source": [
    "### Forward Propagation"
   ]
  },
  {
   "cell_type": "code",
   "execution_count": 69,
   "metadata": {},
   "outputs": [
    {
     "name": "stdout",
     "output_type": "stream",
     "text": [
      "Z:\n",
      " [[0.]\n",
      " [0.]\n",
      " [0.]]\n",
      "y:\n",
      " [[0.5]\n",
      " [0.5]\n",
      " [0.5]]\n",
      "f:\n",
      " 0.749999973077653\n"
     ]
    }
   ],
   "source": [
    "Z = np.dot(W,x)\n",
    "y = sigmoid(Z)\n",
    "f = l2_norm(y)\n",
    "print(f\"Z:\\n {Z}\")\n",
    "print(f\"y:\\n {y}\")\n",
    "print(f\"f:\\n {f}\")"
   ]
  },
  {
   "cell_type": "markdown",
   "metadata": {},
   "source": [
    "### Backpropagation\n",
    "\n",
    "$\\qquad \\sigma'(x) = \\sigma(x) (1 - \\sigma(x))$\n",
    "\n",
    "$\\qquad (\\lVert y \\rVert_2^2)' = 2y$"
   ]
  },
  {
   "cell_type": "code",
   "execution_count": 70,
   "metadata": {},
   "outputs": [],
   "source": [
    "df_df = 1.0"
   ]
  },
  {
   "cell_type": "code",
   "execution_count": 71,
   "metadata": {},
   "outputs": [
    {
     "name": "stdout",
     "output_type": "stream",
     "text": [
      "df/dy:\n",
      " [[1.]\n",
      " [1.]\n",
      " [1.]]\n"
     ]
    }
   ],
   "source": [
    "# For y\n",
    "df_dy = 2 * y\n",
    "df_dy = df_df * df_dy\n",
    "\n",
    "print(f\"df/dy:\\n {df_dy}\")"
   ]
  },
  {
   "cell_type": "code",
   "execution_count": 72,
   "metadata": {},
   "outputs": [
    {
     "name": "stdout",
     "output_type": "stream",
     "text": [
      "df/dZ:\n",
      " [[0.25]\n",
      " [0.25]\n",
      " [0.25]]\n"
     ]
    }
   ],
   "source": [
    "# For Z\n",
    "dy_dZ = sigmoid(Z) * (1-sigmoid(Z))\n",
    "df_dZ = df_dy * dy_dZ\n",
    "\n",
    "print(f\"df/dZ:\\n {df_dZ}\")"
   ]
  },
  {
   "cell_type": "code",
   "execution_count": 73,
   "metadata": {},
   "outputs": [
    {
     "name": "stdout",
     "output_type": "stream",
     "text": [
      "df/dW:\n",
      " [[ 0.25  0.   -0.25]\n",
      " [ 0.25  0.   -0.25]\n",
      " [ 0.25  0.   -0.25]]\n",
      "df/dx:\n",
      " [[2.5]\n",
      " [2. ]\n",
      " [2.5]]\n"
     ]
    }
   ],
   "source": [
    "# For W and x\n",
    "dZ_dW = x.T\n",
    "dZ_dx = W.T\n",
    "\n",
    "df_dW = np.dot(df_dZ, dZ_dW)\n",
    "df_dx = np.dot(dZ_dx, df_dZ)\n",
    "\n",
    "print(f\"df/dW:\\n {df_dW}\")\n",
    "print(f\"df/dx:\\n {df_dx}\")"
   ]
  },
  {
   "cell_type": "markdown",
   "metadata": {},
   "source": [
    "### Computation using PyTorch"
   ]
  },
  {
   "cell_type": "code",
   "execution_count": 74,
   "metadata": {},
   "outputs": [],
   "source": [
    "W = np.array([[2,1,2], [1,3,1], [7,4,7]], dtype=np.float32)\n",
    "x = np.array([[1], [0], [-1]], dtype=np.float32)\n",
    "\n",
    "# Covert to tensors\n",
    "W = torch.tensor(W, requires_grad=True)\n",
    "x = torch.tensor(x, requires_grad=True)"
   ]
  },
  {
   "cell_type": "code",
   "execution_count": 75,
   "metadata": {},
   "outputs": [
    {
     "name": "stdout",
     "output_type": "stream",
     "text": [
      "Z:\n",
      " tensor([[0.],\n",
      "        [0.],\n",
      "        [0.]], grad_fn=<MmBackward0>)\n",
      "y:\n",
      " tensor([[0.5000],\n",
      "        [0.5000],\n",
      "        [0.5000]], grad_fn=<SigmoidBackward0>)\n",
      "f:\n",
      " 0.75\n"
     ]
    }
   ],
   "source": [
    "# Compute forward propagation\n",
    "Z = torch.matmul(W,x)\n",
    "y = torch.sigmoid(Z)\n",
    "f = torch.linalg.norm(y) ** 2\n",
    "\n",
    "print(f\"Z:\\n {Z}\")\n",
    "print(f\"y:\\n {y}\")\n",
    "print(f\"f:\\n {f}\")"
   ]
  },
  {
   "cell_type": "code",
   "execution_count": 76,
   "metadata": {},
   "outputs": [],
   "source": [
    "# Save branch grad values\n",
    "Z.retain_grad()\n",
    "y.retain_grad()\n",
    "f.retain_grad()\n",
    "\n",
    "# Backpropo\n",
    "f.backward()"
   ]
  },
  {
   "cell_type": "code",
   "execution_count": 77,
   "metadata": {},
   "outputs": [
    {
     "name": "stdout",
     "output_type": "stream",
     "text": [
      "df/df:\n",
      " 1.0\n",
      "\n",
      "df/dy:\n",
      " [[1.]\n",
      " [1.]\n",
      " [1.]]\n",
      "\n",
      "df/dZ:\n",
      " [[0.25]\n",
      " [0.25]\n",
      " [0.25]]\n",
      "\n",
      "df/dW:\n",
      " [[ 0.25  0.   -0.25]\n",
      " [ 0.25  0.   -0.25]\n",
      " [ 0.25  0.   -0.25]]\n",
      "\n",
      "df/dx:\n",
      " [[2.5]\n",
      " [2. ]\n",
      " [2.5]]\n"
     ]
    }
   ],
   "source": [
    "print(f\"df/df:\\n {f.grad.detach().numpy()}\\n\")\n",
    "print(f\"df/dy:\\n {y.grad.detach().numpy()}\\n\")\n",
    "print(f\"df/dZ:\\n {Z.grad.detach().numpy()}\\n\")\n",
    "print(f\"df/dW:\\n {W.grad.detach().numpy()}\\n\")\n",
    "print(f\"df/dx:\\n {x.grad.detach().numpy()}\")"
   ]
  },
  {
   "cell_type": "markdown",
   "metadata": {},
   "source": [
    "Rochishnu Banerjee\n",
    "\n",
    "banerjr2@miamioh.edu"
   ]
  }
 ],
 "metadata": {
  "kernelspec": {
   "display_name": "Python 3.9.7 ('base')",
   "language": "python",
   "name": "python3"
  },
  "language_info": {
   "codemirror_mode": {
    "name": "ipython",
    "version": 3
   },
   "file_extension": ".py",
   "mimetype": "text/x-python",
   "name": "python",
   "nbconvert_exporter": "python",
   "pygments_lexer": "ipython3",
   "version": "3.9.7"
  },
  "orig_nbformat": 4,
  "vscode": {
   "interpreter": {
    "hash": "0c440127822a86a94e817669cbd43785fa9f1efed11409e75a87f0c507d92b57"
   }
  }
 },
 "nbformat": 4,
 "nbformat_minor": 2
}
